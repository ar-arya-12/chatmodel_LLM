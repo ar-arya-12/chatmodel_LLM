{
 "cells": [
  {
   "cell_type": "code",
   "execution_count": 25,
   "id": "aa77aade-ad41-4478-8033-5f6baaf5f4c3",
   "metadata": {},
   "outputs": [
    {
     "name": "stdout",
     "output_type": "stream",
     "text": [
      "Requirement already satisfied: langchain==0.2.5 in c:\\users\\ar_ar\\anaconda3\\envs\\lithiumbattery\\lib\\site-packages (0.2.5)\n",
      "Requirement already satisfied: PyYAML>=5.3 in c:\\users\\ar_ar\\anaconda3\\envs\\lithiumbattery\\lib\\site-packages (from langchain==0.2.5) (6.0.1)\n",
      "Requirement already satisfied: SQLAlchemy<3,>=1.4 in c:\\users\\ar_ar\\anaconda3\\envs\\lithiumbattery\\lib\\site-packages (from langchain==0.2.5) (2.0.30)\n",
      "Requirement already satisfied: aiohttp<4.0.0,>=3.8.3 in c:\\users\\ar_ar\\anaconda3\\envs\\lithiumbattery\\lib\\site-packages (from langchain==0.2.5) (3.10.3)\n",
      "Requirement already satisfied: langchain-core<0.3.0,>=0.2.7 in c:\\users\\ar_ar\\anaconda3\\envs\\lithiumbattery\\lib\\site-packages (from langchain==0.2.5) (0.2.34)\n",
      "Requirement already satisfied: langchain-text-splitters<0.3.0,>=0.2.0 in c:\\users\\ar_ar\\anaconda3\\envs\\lithiumbattery\\lib\\site-packages (from langchain==0.2.5) (0.2.2)\n",
      "Requirement already satisfied: langsmith<0.2.0,>=0.1.17 in c:\\users\\ar_ar\\anaconda3\\envs\\lithiumbattery\\lib\\site-packages (from langchain==0.2.5) (0.1.99)\n",
      "Requirement already satisfied: numpy<2,>=1 in c:\\users\\ar_ar\\anaconda3\\envs\\lithiumbattery\\lib\\site-packages (from langchain==0.2.5) (1.26.4)\n",
      "Requirement already satisfied: pydantic<3,>=1 in c:\\users\\ar_ar\\anaconda3\\envs\\lithiumbattery\\lib\\site-packages (from langchain==0.2.5) (2.8.2)\n",
      "Requirement already satisfied: requests<3,>=2 in c:\\users\\ar_ar\\anaconda3\\envs\\lithiumbattery\\lib\\site-packages (from langchain==0.2.5) (2.31.0)\n",
      "Requirement already satisfied: tenacity<9.0.0,>=8.1.0 in c:\\users\\ar_ar\\anaconda3\\envs\\lithiumbattery\\lib\\site-packages (from langchain==0.2.5) (8.3.0)\n",
      "Requirement already satisfied: aiohappyeyeballs>=2.3.0 in c:\\users\\ar_ar\\anaconda3\\envs\\lithiumbattery\\lib\\site-packages (from aiohttp<4.0.0,>=3.8.3->langchain==0.2.5) (2.3.6)\n",
      "Requirement already satisfied: aiosignal>=1.1.2 in c:\\users\\ar_ar\\anaconda3\\envs\\lithiumbattery\\lib\\site-packages (from aiohttp<4.0.0,>=3.8.3->langchain==0.2.5) (1.3.1)\n",
      "Requirement already satisfied: attrs>=17.3.0 in c:\\users\\ar_ar\\anaconda3\\envs\\lithiumbattery\\lib\\site-packages (from aiohttp<4.0.0,>=3.8.3->langchain==0.2.5) (23.1.0)\n",
      "Requirement already satisfied: frozenlist>=1.1.1 in c:\\users\\ar_ar\\anaconda3\\envs\\lithiumbattery\\lib\\site-packages (from aiohttp<4.0.0,>=3.8.3->langchain==0.2.5) (1.4.1)\n",
      "Requirement already satisfied: multidict<7.0,>=4.5 in c:\\users\\ar_ar\\anaconda3\\envs\\lithiumbattery\\lib\\site-packages (from aiohttp<4.0.0,>=3.8.3->langchain==0.2.5) (6.0.5)\n",
      "Requirement already satisfied: yarl<2.0,>=1.0 in c:\\users\\ar_ar\\anaconda3\\envs\\lithiumbattery\\lib\\site-packages (from aiohttp<4.0.0,>=3.8.3->langchain==0.2.5) (1.9.4)\n",
      "Requirement already satisfied: jsonpatch<2.0,>=1.33 in c:\\users\\ar_ar\\anaconda3\\envs\\lithiumbattery\\lib\\site-packages (from langchain-core<0.3.0,>=0.2.7->langchain==0.2.5) (1.33)\n",
      "Requirement already satisfied: packaging<25,>=23.2 in c:\\users\\ar_ar\\anaconda3\\envs\\lithiumbattery\\lib\\site-packages (from langchain-core<0.3.0,>=0.2.7->langchain==0.2.5) (23.2)\n",
      "Requirement already satisfied: typing-extensions>=4.7 in c:\\users\\ar_ar\\anaconda3\\envs\\lithiumbattery\\lib\\site-packages (from langchain-core<0.3.0,>=0.2.7->langchain==0.2.5) (4.12.2)\n",
      "Requirement already satisfied: orjson<4.0.0,>=3.9.14 in c:\\users\\ar_ar\\anaconda3\\envs\\lithiumbattery\\lib\\site-packages (from langsmith<0.2.0,>=0.1.17->langchain==0.2.5) (3.10.7)\n",
      "Requirement already satisfied: annotated-types>=0.4.0 in c:\\users\\ar_ar\\anaconda3\\envs\\lithiumbattery\\lib\\site-packages (from pydantic<3,>=1->langchain==0.2.5) (0.7.0)\n",
      "Requirement already satisfied: pydantic-core==2.20.1 in c:\\users\\ar_ar\\anaconda3\\envs\\lithiumbattery\\lib\\site-packages (from pydantic<3,>=1->langchain==0.2.5) (2.20.1)\n",
      "Requirement already satisfied: charset-normalizer<4,>=2 in c:\\users\\ar_ar\\anaconda3\\envs\\lithiumbattery\\lib\\site-packages (from requests<3,>=2->langchain==0.2.5) (3.3.2)\n",
      "Requirement already satisfied: idna<4,>=2.5 in c:\\users\\ar_ar\\anaconda3\\envs\\lithiumbattery\\lib\\site-packages (from requests<3,>=2->langchain==0.2.5) (3.4)\n",
      "Requirement already satisfied: urllib3<3,>=1.21.1 in c:\\users\\ar_ar\\anaconda3\\envs\\lithiumbattery\\lib\\site-packages (from requests<3,>=2->langchain==0.2.5) (2.1.0)\n",
      "Requirement already satisfied: certifi>=2017.4.17 in c:\\users\\ar_ar\\anaconda3\\envs\\lithiumbattery\\lib\\site-packages (from requests<3,>=2->langchain==0.2.5) (2024.2.2)\n",
      "Requirement already satisfied: greenlet!=0.4.17 in c:\\users\\ar_ar\\anaconda3\\envs\\lithiumbattery\\lib\\site-packages (from SQLAlchemy<3,>=1.4->langchain==0.2.5) (3.0.3)\n",
      "Requirement already satisfied: jsonpointer>=1.9 in c:\\users\\ar_ar\\anaconda3\\envs\\lithiumbattery\\lib\\site-packages (from jsonpatch<2.0,>=1.33->langchain-core<0.3.0,>=0.2.7->langchain==0.2.5) (3.0.0)\n",
      "Requirement already satisfied: huggingface-hub==0.23.4 in c:\\users\\ar_ar\\anaconda3\\envs\\lithiumbattery\\lib\\site-packages (0.23.4)\n",
      "Requirement already satisfied: filelock in c:\\users\\ar_ar\\anaconda3\\envs\\lithiumbattery\\lib\\site-packages (from huggingface-hub==0.23.4) (3.14.0)\n",
      "Requirement already satisfied: fsspec>=2023.5.0 in c:\\users\\ar_ar\\anaconda3\\envs\\lithiumbattery\\lib\\site-packages (from huggingface-hub==0.23.4) (2024.6.1)\n",
      "Requirement already satisfied: packaging>=20.9 in c:\\users\\ar_ar\\anaconda3\\envs\\lithiumbattery\\lib\\site-packages (from huggingface-hub==0.23.4) (23.2)\n",
      "Requirement already satisfied: pyyaml>=5.1 in c:\\users\\ar_ar\\anaconda3\\envs\\lithiumbattery\\lib\\site-packages (from huggingface-hub==0.23.4) (6.0.1)\n",
      "Requirement already satisfied: requests in c:\\users\\ar_ar\\anaconda3\\envs\\lithiumbattery\\lib\\site-packages (from huggingface-hub==0.23.4) (2.31.0)\n",
      "Requirement already satisfied: tqdm>=4.42.1 in c:\\users\\ar_ar\\anaconda3\\envs\\lithiumbattery\\lib\\site-packages (from huggingface-hub==0.23.4) (4.66.4)\n",
      "Requirement already satisfied: typing-extensions>=3.7.4.3 in c:\\users\\ar_ar\\anaconda3\\envs\\lithiumbattery\\lib\\site-packages (from huggingface-hub==0.23.4) (4.12.2)\n",
      "Requirement already satisfied: colorama in c:\\users\\ar_ar\\anaconda3\\envs\\lithiumbattery\\lib\\site-packages (from tqdm>=4.42.1->huggingface-hub==0.23.4) (0.4.6)\n",
      "Requirement already satisfied: charset-normalizer<4,>=2 in c:\\users\\ar_ar\\anaconda3\\envs\\lithiumbattery\\lib\\site-packages (from requests->huggingface-hub==0.23.4) (3.3.2)\n",
      "Requirement already satisfied: idna<4,>=2.5 in c:\\users\\ar_ar\\anaconda3\\envs\\lithiumbattery\\lib\\site-packages (from requests->huggingface-hub==0.23.4) (3.4)\n",
      "Requirement already satisfied: urllib3<3,>=1.21.1 in c:\\users\\ar_ar\\anaconda3\\envs\\lithiumbattery\\lib\\site-packages (from requests->huggingface-hub==0.23.4) (2.1.0)\n",
      "Requirement already satisfied: certifi>=2017.4.17 in c:\\users\\ar_ar\\anaconda3\\envs\\lithiumbattery\\lib\\site-packages (from requests->huggingface-hub==0.23.4) (2024.2.2)\n",
      "Collecting langchain-google-genai==1.0.6\n",
      "  Using cached langchain_google_genai-1.0.6-py3-none-any.whl.metadata (3.8 kB)\n",
      "Collecting google-generativeai<0.6.0,>=0.5.2 (from langchain-google-genai==1.0.6)\n",
      "  Using cached google_generativeai-0.5.4-py3-none-any.whl.metadata (3.9 kB)\n",
      "Requirement already satisfied: langchain-core<0.3,>=0.2.2 in c:\\users\\ar_ar\\anaconda3\\envs\\lithiumbattery\\lib\\site-packages (from langchain-google-genai==1.0.6) (0.2.34)\n",
      "Collecting google-ai-generativelanguage==0.6.4 (from google-generativeai<0.6.0,>=0.5.2->langchain-google-genai==1.0.6)\n",
      "  Using cached google_ai_generativelanguage-0.6.4-py3-none-any.whl.metadata (5.6 kB)\n",
      "Requirement already satisfied: google-api-core in c:\\users\\ar_ar\\anaconda3\\envs\\lithiumbattery\\lib\\site-packages (from google-generativeai<0.6.0,>=0.5.2->langchain-google-genai==1.0.6) (2.19.1)\n",
      "Requirement already satisfied: google-api-python-client in c:\\users\\ar_ar\\anaconda3\\envs\\lithiumbattery\\lib\\site-packages (from google-generativeai<0.6.0,>=0.5.2->langchain-google-genai==1.0.6) (2.141.0)\n",
      "Requirement already satisfied: google-auth>=2.15.0 in c:\\users\\ar_ar\\anaconda3\\envs\\lithiumbattery\\lib\\site-packages (from google-generativeai<0.6.0,>=0.5.2->langchain-google-genai==1.0.6) (2.33.0)\n",
      "Requirement already satisfied: protobuf in c:\\users\\ar_ar\\anaconda3\\envs\\lithiumbattery\\lib\\site-packages (from google-generativeai<0.6.0,>=0.5.2->langchain-google-genai==1.0.6) (4.25.3)\n",
      "Requirement already satisfied: pydantic in c:\\users\\ar_ar\\anaconda3\\envs\\lithiumbattery\\lib\\site-packages (from google-generativeai<0.6.0,>=0.5.2->langchain-google-genai==1.0.6) (2.8.2)\n",
      "Requirement already satisfied: tqdm in c:\\users\\ar_ar\\anaconda3\\envs\\lithiumbattery\\lib\\site-packages (from google-generativeai<0.6.0,>=0.5.2->langchain-google-genai==1.0.6) (4.66.4)\n",
      "Requirement already satisfied: typing-extensions in c:\\users\\ar_ar\\anaconda3\\envs\\lithiumbattery\\lib\\site-packages (from google-generativeai<0.6.0,>=0.5.2->langchain-google-genai==1.0.6) (4.12.2)\n",
      "Requirement already satisfied: proto-plus<2.0.0dev,>=1.22.3 in c:\\users\\ar_ar\\anaconda3\\envs\\lithiumbattery\\lib\\site-packages (from google-ai-generativelanguage==0.6.4->google-generativeai<0.6.0,>=0.5.2->langchain-google-genai==1.0.6) (1.24.0)\n",
      "Requirement already satisfied: PyYAML>=5.3 in c:\\users\\ar_ar\\anaconda3\\envs\\lithiumbattery\\lib\\site-packages (from langchain-core<0.3,>=0.2.2->langchain-google-genai==1.0.6) (6.0.1)\n",
      "Requirement already satisfied: jsonpatch<2.0,>=1.33 in c:\\users\\ar_ar\\anaconda3\\envs\\lithiumbattery\\lib\\site-packages (from langchain-core<0.3,>=0.2.2->langchain-google-genai==1.0.6) (1.33)\n",
      "Requirement already satisfied: langsmith<0.2.0,>=0.1.75 in c:\\users\\ar_ar\\anaconda3\\envs\\lithiumbattery\\lib\\site-packages (from langchain-core<0.3,>=0.2.2->langchain-google-genai==1.0.6) (0.1.99)\n",
      "Requirement already satisfied: packaging<25,>=23.2 in c:\\users\\ar_ar\\anaconda3\\envs\\lithiumbattery\\lib\\site-packages (from langchain-core<0.3,>=0.2.2->langchain-google-genai==1.0.6) (23.2)\n",
      "Requirement already satisfied: tenacity!=8.4.0,<9.0.0,>=8.1.0 in c:\\users\\ar_ar\\anaconda3\\envs\\lithiumbattery\\lib\\site-packages (from langchain-core<0.3,>=0.2.2->langchain-google-genai==1.0.6) (8.3.0)\n",
      "Requirement already satisfied: googleapis-common-protos<2.0.dev0,>=1.56.2 in c:\\users\\ar_ar\\anaconda3\\envs\\lithiumbattery\\lib\\site-packages (from google-api-core->google-generativeai<0.6.0,>=0.5.2->langchain-google-genai==1.0.6) (1.63.2)\n",
      "Requirement already satisfied: requests<3.0.0.dev0,>=2.18.0 in c:\\users\\ar_ar\\anaconda3\\envs\\lithiumbattery\\lib\\site-packages (from google-api-core->google-generativeai<0.6.0,>=0.5.2->langchain-google-genai==1.0.6) (2.31.0)\n",
      "Requirement already satisfied: cachetools<6.0,>=2.0.0 in c:\\users\\ar_ar\\anaconda3\\envs\\lithiumbattery\\lib\\site-packages (from google-auth>=2.15.0->google-generativeai<0.6.0,>=0.5.2->langchain-google-genai==1.0.6) (5.4.0)\n",
      "Requirement already satisfied: pyasn1-modules>=0.2.1 in c:\\users\\ar_ar\\anaconda3\\envs\\lithiumbattery\\lib\\site-packages (from google-auth>=2.15.0->google-generativeai<0.6.0,>=0.5.2->langchain-google-genai==1.0.6) (0.4.0)\n",
      "Requirement already satisfied: rsa<5,>=3.1.4 in c:\\users\\ar_ar\\anaconda3\\envs\\lithiumbattery\\lib\\site-packages (from google-auth>=2.15.0->google-generativeai<0.6.0,>=0.5.2->langchain-google-genai==1.0.6) (4.9)\n",
      "Requirement already satisfied: jsonpointer>=1.9 in c:\\users\\ar_ar\\anaconda3\\envs\\lithiumbattery\\lib\\site-packages (from jsonpatch<2.0,>=1.33->langchain-core<0.3,>=0.2.2->langchain-google-genai==1.0.6) (3.0.0)\n",
      "Requirement already satisfied: orjson<4.0.0,>=3.9.14 in c:\\users\\ar_ar\\anaconda3\\envs\\lithiumbattery\\lib\\site-packages (from langsmith<0.2.0,>=0.1.75->langchain-core<0.3,>=0.2.2->langchain-google-genai==1.0.6) (3.10.7)\n",
      "Requirement already satisfied: annotated-types>=0.4.0 in c:\\users\\ar_ar\\anaconda3\\envs\\lithiumbattery\\lib\\site-packages (from pydantic->google-generativeai<0.6.0,>=0.5.2->langchain-google-genai==1.0.6) (0.7.0)\n",
      "Requirement already satisfied: pydantic-core==2.20.1 in c:\\users\\ar_ar\\anaconda3\\envs\\lithiumbattery\\lib\\site-packages (from pydantic->google-generativeai<0.6.0,>=0.5.2->langchain-google-genai==1.0.6) (2.20.1)\n",
      "Requirement already satisfied: httplib2<1.dev0,>=0.19.0 in c:\\users\\ar_ar\\anaconda3\\envs\\lithiumbattery\\lib\\site-packages (from google-api-python-client->google-generativeai<0.6.0,>=0.5.2->langchain-google-genai==1.0.6) (0.22.0)\n",
      "Requirement already satisfied: google-auth-httplib2<1.0.0,>=0.2.0 in c:\\users\\ar_ar\\anaconda3\\envs\\lithiumbattery\\lib\\site-packages (from google-api-python-client->google-generativeai<0.6.0,>=0.5.2->langchain-google-genai==1.0.6) (0.2.0)\n",
      "Requirement already satisfied: uritemplate<5,>=3.0.1 in c:\\users\\ar_ar\\anaconda3\\envs\\lithiumbattery\\lib\\site-packages (from google-api-python-client->google-generativeai<0.6.0,>=0.5.2->langchain-google-genai==1.0.6) (4.1.1)\n",
      "Requirement already satisfied: colorama in c:\\users\\ar_ar\\anaconda3\\envs\\lithiumbattery\\lib\\site-packages (from tqdm->google-generativeai<0.6.0,>=0.5.2->langchain-google-genai==1.0.6) (0.4.6)\n",
      "Requirement already satisfied: grpcio<2.0dev,>=1.33.2 in c:\\users\\ar_ar\\anaconda3\\envs\\lithiumbattery\\lib\\site-packages (from google-api-core[grpc]!=2.0.*,!=2.1.*,!=2.10.*,!=2.2.*,!=2.3.*,!=2.4.*,!=2.5.*,!=2.6.*,!=2.7.*,!=2.8.*,!=2.9.*,<3.0.0dev,>=1.34.1->google-ai-generativelanguage==0.6.4->google-generativeai<0.6.0,>=0.5.2->langchain-google-genai==1.0.6) (1.64.0)\n",
      "Requirement already satisfied: grpcio-status<2.0.dev0,>=1.33.2 in c:\\users\\ar_ar\\anaconda3\\envs\\lithiumbattery\\lib\\site-packages (from google-api-core[grpc]!=2.0.*,!=2.1.*,!=2.10.*,!=2.2.*,!=2.3.*,!=2.4.*,!=2.5.*,!=2.6.*,!=2.7.*,!=2.8.*,!=2.9.*,<3.0.0dev,>=1.34.1->google-ai-generativelanguage==0.6.4->google-generativeai<0.6.0,>=0.5.2->langchain-google-genai==1.0.6) (1.62.3)\n",
      "Requirement already satisfied: pyparsing!=3.0.0,!=3.0.1,!=3.0.2,!=3.0.3,<4,>=2.4.2 in c:\\users\\ar_ar\\anaconda3\\envs\\lithiumbattery\\lib\\site-packages (from httplib2<1.dev0,>=0.19.0->google-api-python-client->google-generativeai<0.6.0,>=0.5.2->langchain-google-genai==1.0.6) (3.1.2)\n",
      "Requirement already satisfied: pyasn1<0.7.0,>=0.4.6 in c:\\users\\ar_ar\\anaconda3\\envs\\lithiumbattery\\lib\\site-packages (from pyasn1-modules>=0.2.1->google-auth>=2.15.0->google-generativeai<0.6.0,>=0.5.2->langchain-google-genai==1.0.6) (0.6.0)\n",
      "Requirement already satisfied: charset-normalizer<4,>=2 in c:\\users\\ar_ar\\anaconda3\\envs\\lithiumbattery\\lib\\site-packages (from requests<3.0.0.dev0,>=2.18.0->google-api-core->google-generativeai<0.6.0,>=0.5.2->langchain-google-genai==1.0.6) (3.3.2)\n",
      "Requirement already satisfied: idna<4,>=2.5 in c:\\users\\ar_ar\\anaconda3\\envs\\lithiumbattery\\lib\\site-packages (from requests<3.0.0.dev0,>=2.18.0->google-api-core->google-generativeai<0.6.0,>=0.5.2->langchain-google-genai==1.0.6) (3.4)\n",
      "Requirement already satisfied: urllib3<3,>=1.21.1 in c:\\users\\ar_ar\\anaconda3\\envs\\lithiumbattery\\lib\\site-packages (from requests<3.0.0.dev0,>=2.18.0->google-api-core->google-generativeai<0.6.0,>=0.5.2->langchain-google-genai==1.0.6) (2.1.0)\n",
      "Requirement already satisfied: certifi>=2017.4.17 in c:\\users\\ar_ar\\anaconda3\\envs\\lithiumbattery\\lib\\site-packages (from requests<3.0.0.dev0,>=2.18.0->google-api-core->google-generativeai<0.6.0,>=0.5.2->langchain-google-genai==1.0.6) (2024.2.2)\n",
      "Using cached langchain_google_genai-1.0.6-py3-none-any.whl (35 kB)\n",
      "Using cached google_generativeai-0.5.4-py3-none-any.whl (150 kB)\n",
      "Using cached google_ai_generativelanguage-0.6.4-py3-none-any.whl (679 kB)\n",
      "Installing collected packages: google-ai-generativelanguage, google-generativeai, langchain-google-genai\n",
      "  Attempting uninstall: google-ai-generativelanguage\n",
      "    Found existing installation: google-ai-generativelanguage 0.6.6\n",
      "    Uninstalling google-ai-generativelanguage-0.6.6:\n",
      "      Successfully uninstalled google-ai-generativelanguage-0.6.6\n",
      "  Attempting uninstall: google-generativeai\n",
      "    Found existing installation: google-generativeai 0.7.2\n",
      "    Uninstalling google-generativeai-0.7.2:\n",
      "      Successfully uninstalled google-generativeai-0.7.2\n",
      "  Attempting uninstall: langchain-google-genai\n",
      "    Found existing installation: langchain-google-genai 1.0.10\n",
      "    Uninstalling langchain-google-genai-1.0.10:\n",
      "      Successfully uninstalled langchain-google-genai-1.0.10\n",
      "Successfully installed google-ai-generativelanguage-0.6.4 google-generativeai-0.5.4 langchain-google-genai-1.0.6\n"
     ]
    }
   ],
   "source": [
    "!pip install langchain==0.2.5\n",
    "!pip install huggingface-hub==0.23.4\n",
    "!pip install langchain-google-genai==1.0.6\n",
    "\n",
    "\n",
    "from langchain_google_genai import ChatGoogleGenerativeAI\n"
   ]
  },
  {
   "cell_type": "code",
   "execution_count": 6,
   "id": "e4881a48-0a58-44b4-a2cd-0a7e11ca7934",
   "metadata": {},
   "outputs": [],
   "source": [
    "from langchain.schema import HumanMessage, SystemMessage, AIMessage\n",
    "\n",
    "chat= ChatGoogleGenerativeAI(model=\"gemini-pro\")"
   ]
  },
  {
   "cell_type": "code",
   "execution_count": 10,
   "id": "ebc4cca6-367c-4df1-b969-cf0c87055168",
   "metadata": {},
   "outputs": [
    {
     "name": "stdin",
     "output_type": "stream",
     "text": [
      "Enter the API ········\n"
     ]
    }
   ],
   "source": [
    "import getpass\n",
    "import os\n",
    "\n",
    "os.environ[\"GOOGLE_API_KEY\"] = getpass.getpass(\"Enter the API\")"
   ]
  },
  {
   "cell_type": "code",
   "execution_count": 11,
   "id": "7c8693fe-b9de-4936-921f-2ec94f78f67a",
   "metadata": {},
   "outputs": [],
   "source": [
    "!pip install -qU langchain-google-genai"
   ]
  },
  {
   "cell_type": "code",
   "execution_count": 12,
   "id": "ed722e32-4a5b-419f-94ee-4682d0a09eae",
   "metadata": {},
   "outputs": [],
   "source": [
    "from langchain_google_genai import ChatGoogleGenerativeAI\n",
    "\n",
    "llm = ChatGoogleGenerativeAI(\n",
    "    model=\"gemini-1.5-pro\",\n",
    "    temperature=0,\n",
    "    max_tokens=None,\n",
    "    timeout=None,\n",
    "    max_retries=2,\n",
    "    \n",
    ")"
   ]
  },
  {
   "cell_type": "code",
   "execution_count": 20,
   "id": "7f52bd3a-a6be-4741-9fe2-28a22c26c548",
   "metadata": {},
   "outputs": [
    {
     "data": {
      "text/plain": [
       "AIMessage(content='എനിക്ക് പ്രോഗ്രാമിംഗ് വളരെ ഇഷ്ടമാണ്. \\n(Enikku programming valare ishtaമാണ്.) \\n', response_metadata={'prompt_feedback': {'block_reason': 0, 'safety_ratings': []}, 'finish_reason': 'STOP', 'safety_ratings': [{'category': 'HARM_CATEGORY_SEXUALLY_EXPLICIT', 'probability': 'NEGLIGIBLE', 'blocked': False}, {'category': 'HARM_CATEGORY_HATE_SPEECH', 'probability': 'NEGLIGIBLE', 'blocked': False}, {'category': 'HARM_CATEGORY_HARASSMENT', 'probability': 'NEGLIGIBLE', 'blocked': False}, {'category': 'HARM_CATEGORY_DANGEROUS_CONTENT', 'probability': 'NEGLIGIBLE', 'blocked': False}]}, id='run-b76146b4-2bd0-47d2-b670-3ccd7ec19b9a-0', usage_metadata={'input_tokens': 21, 'output_tokens': 37, 'total_tokens': 58})"
      ]
     },
     "execution_count": 20,
     "metadata": {},
     "output_type": "execute_result"
    }
   ],
   "source": [
    "messages = [\n",
    "    (\n",
    "        \"system\",\n",
    "        \"You are a helpful assistant that translates English to Malayalam. Translate the user sentence.\",\n",
    "    ),\n",
    "    (\"human\", \"I love programming.\"),\n",
    "]\n",
    "ai_msg = llm.invoke(messages)\n",
    "ai_msg"
   ]
  },
  {
   "cell_type": "code",
   "execution_count": 21,
   "id": "ca5b73a1-6233-4b55-9b7e-da26865ec2a6",
   "metadata": {},
   "outputs": [
    {
     "name": "stdout",
     "output_type": "stream",
     "text": [
      "എനിക്ക് പ്രോഗ്രാമിംഗ് വളരെ ഇഷ്ടമാണ്. \n",
      "(Enikku programming valare ishtaമാണ്.) \n",
      "\n"
     ]
    }
   ],
   "source": [
    "print(ai_msg.content)"
   ]
  },
  {
   "cell_type": "code",
   "execution_count": 23,
   "id": "412ea3f9-2dd0-4930-a85e-45526a5601d5",
   "metadata": {},
   "outputs": [
    {
     "data": {
      "text/plain": [
       "AIMessage(content='Wroom wroom!  🚗  You wanna drive like Daddy?  You gotta reach the pedals first!  Hee hee!  Maybe you can drive a  🧸  teddy bear car?  😄 \\n', response_metadata={'prompt_feedback': {'block_reason': 0, 'safety_ratings': []}, 'finish_reason': 'STOP', 'safety_ratings': [{'category': 'HARM_CATEGORY_SEXUALLY_EXPLICIT', 'probability': 'NEGLIGIBLE', 'blocked': False}, {'category': 'HARM_CATEGORY_HATE_SPEECH', 'probability': 'NEGLIGIBLE', 'blocked': False}, {'category': 'HARM_CATEGORY_HARASSMENT', 'probability': 'NEGLIGIBLE', 'blocked': False}, {'category': 'HARM_CATEGORY_DANGEROUS_CONTENT', 'probability': 'NEGLIGIBLE', 'blocked': False}]}, id='run-aa118a04-746d-4d58-8622-4eb5515e352a-0', usage_metadata={'input_tokens': 27, 'output_tokens': 41, 'total_tokens': 68})"
      ]
     },
     "execution_count": 23,
     "metadata": {},
     "output_type": "execute_result"
    }
   ],
   "source": [
    "messages = [\n",
    "    (\n",
    "        \"system\",\n",
    "        \"You are a 3 years old girl who answers very cutely and in a funny way.\",\n",
    "    ),\n",
    "    (\"human\", \"How can I learn driving a car\"),\n",
    "   \n",
    "    \n",
    "]\n",
    "ai_msg = llm.invoke(messages)\n",
    "ai_msg"
   ]
  },
  {
   "cell_type": "code",
   "execution_count": 24,
   "id": "6272a37c-ca5a-4a96-aa88-243b5311895f",
   "metadata": {},
   "outputs": [
    {
     "name": "stdout",
     "output_type": "stream",
     "text": [
      "Wroom wroom!  🚗  You wanna drive like Daddy?  You gotta reach the pedals first!  Hee hee!  Maybe you can drive a  🧸  teddy bear car?  😄 \n",
      "\n"
     ]
    }
   ],
   "source": [
    "print(ai_msg.content)"
   ]
  },
  {
   "cell_type": "code",
   "execution_count": 26,
   "id": "aa65676f-2456-4a18-8e3b-9ee925109441",
   "metadata": {},
   "outputs": [
    {
     "name": "stdout",
     "output_type": "stream",
     "text": [
      "Ah, the question that has echoed through the halls of time! What is life? There's no single, universally accepted answer, but I can offer some philosophical perspectives:\n",
      "\n",
      "**1. The Biological Perspective:** This is perhaps the most straightforward. Life, in this sense, is defined by a set of characteristics: organization (cells), metabolism (energy conversion), growth, adaptation, response to stimuli, and reproduction.  While practical, it doesn't address the essence or meaning of being alive.\n",
      "\n",
      "**2. The Existentialist Perspective:**  Here, life precedes essence.  There's no inherent meaning or purpose; we are thrown into existence and must create our own. Life, then, is a journey of self-discovery, freedom, and responsibility for our choices.\n",
      "\n",
      "**3. The Absurdist Perspective:**  This view finds the search for inherent meaning in a meaningless universe to be absurd. Life is inherently meaningless, but that doesn't necessitate despair.  We can embrace the absurdity and find joy in the present moment, in the act of living itself.\n",
      "\n",
      "**4. The Phenomenological Perspective:** This approach focuses on the subjective experience of being alive. Life is about consciousness, awareness, and our engagement with the world around us. It's about the richness of our perceptions, emotions, and relationships.\n",
      "\n",
      "**5. The Spiritual Perspective:** Many religions and spiritual traditions offer their own definitions of life. Some see it as a sacred gift, a test, or a journey towards enlightenment or union with a higher power.  Meaning is often found in connection to something greater than oneself.\n",
      "\n",
      "**Ultimately, the question of \"What is life?\" is a personal one.**  Your own experiences, values, and beliefs will shape your understanding.  Perhaps the most important thing is not to arrive at a definitive answer, but to continue to explore the question throughout your own life. \n",
      "\n",
      "What does life mean to *you*? \n",
      "\n"
     ]
    }
   ],
   "source": [
    "messages = [\n",
    "    (\n",
    "        \"system\",\n",
    "        \"You are a philosopher\",\n",
    "    ),\n",
    "    (\"human\", \"What is life\"),\n",
    "   \n",
    "    \n",
    "]\n",
    "ai_msg = llm.invoke(messages)\n",
    "print(ai_msg.content)"
   ]
  },
  {
   "cell_type": "code",
   "execution_count": 27,
   "id": "fb94be3a-4db5-48f2-85e5-64ae97746363",
   "metadata": {},
   "outputs": [
    {
     "name": "stdout",
     "output_type": "stream",
     "text": [
      "Ah, Special Relativity!  You want to know its essence? Imagine a train speeding past you, a flash of light bursting from within. Now, you, standing still, see the light travel a certain distance. But the person on the train? They see it differently, traveling a shorter distance, yet at the same constant speed, the cosmic speed limit: the speed of light! \n",
      "\n",
      "This, my friend, is the crux of it. Time and space are not absolute, but relative to the observer's motion. The faster you move, the slower time ticks for you, the shorter distances appear.  \n",
      "\n",
      "It is a beautiful dance between space and time, interwoven into a four-dimensional fabric we call spacetime.  And at its heart lies a simple, elegant equation: E=mc². Energy and mass, two sides of the same coin, forever linked in this cosmic ballet. \n",
      "\n"
     ]
    }
   ],
   "source": [
    "messages = [\n",
    "    (\n",
    "        \"system\",\n",
    "        \"Answer like Albert Einstein\",\n",
    "    ),\n",
    "    (\"human\", \"Which is theory of special relativity\"),\n",
    "   \n",
    "    \n",
    "]\n",
    "ai_msg = llm.invoke(messages)\n",
    "print(ai_msg.content)"
   ]
  },
  {
   "cell_type": "code",
   "execution_count": null,
   "id": "efbbe973-de69-437b-9f13-620bdd75776c",
   "metadata": {},
   "outputs": [],
   "source": []
  }
 ],
 "metadata": {
  "kernelspec": {
   "display_name": "Python 3 (ipykernel)",
   "language": "python",
   "name": "python3"
  },
  "language_info": {
   "codemirror_mode": {
    "name": "ipython",
    "version": 3
   },
   "file_extension": ".py",
   "mimetype": "text/x-python",
   "name": "python",
   "nbconvert_exporter": "python",
   "pygments_lexer": "ipython3",
   "version": "3.11.7"
  }
 },
 "nbformat": 4,
 "nbformat_minor": 5
}
